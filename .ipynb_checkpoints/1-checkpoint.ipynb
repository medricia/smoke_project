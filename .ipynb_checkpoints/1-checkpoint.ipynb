{
 "cells": [
  {
   "cell_type": "code",
   "execution_count": 1,
   "id": "3fcc51a7",
   "metadata": {},
   "outputs": [],
   "source": [
    "import pandas as pd\n",
    "import numpy as np\n",
    "import matplotlib.pyplot as plt\n",
    "import seaborn as sns\n",
    "\n",
    "from sklearn.ensemble import RandomForestRegressor\n",
    "\n",
    "from sklearn.preprocessing import MinMaxScaler\n",
    "from sklearn.model_selection import GridSearchCV\n",
    "\n",
    "from tensorflow import keras\n",
    "from tensorflow.keras.models import Sequential\n",
    "import tensorflow as tf\n",
    "\n",
    "from sklearn.model_selection import train_test_split\n",
    "from tensorflow.keras.layers import LSTM, Dense\n",
    "from sklearn.metrics import mean_squared_error, r2_score,mean_absolute_error"
   ]
  },
  {
   "cell_type": "code",
   "execution_count": 2,
   "id": "f43c00a4",
   "metadata": {},
   "outputs": [],
   "source": [
    "# 데이터 불러오기\n",
    "df = pd.read_csv('../smoke/train.csv')"
   ]
  },
  {
   "cell_type": "code",
   "execution_count": 3,
   "id": "9d577ce0",
   "metadata": {},
   "outputs": [],
   "source": [
    "# 데이터 불러오기\n",
    "test = pd.read_csv('../smoke/test.csv')"
   ]
  },
  {
   "cell_type": "code",
   "execution_count": 4,
   "id": "6b5b784f",
   "metadata": {},
   "outputs": [
    {
     "data": {
      "text/html": [
       "<div>\n",
       "<style scoped>\n",
       "    .dataframe tbody tr th:only-of-type {\n",
       "        vertical-align: middle;\n",
       "    }\n",
       "\n",
       "    .dataframe tbody tr th {\n",
       "        vertical-align: top;\n",
       "    }\n",
       "\n",
       "    .dataframe thead th {\n",
       "        text-align: right;\n",
       "    }\n",
       "</style>\n",
       "<table border=\"1\" class=\"dataframe\">\n",
       "  <thead>\n",
       "    <tr style=\"text-align: right;\">\n",
       "      <th></th>\n",
       "      <th>ID</th>\n",
       "      <th>나이</th>\n",
       "      <th>키(cm)</th>\n",
       "      <th>몸무게(kg)</th>\n",
       "      <th>BMI</th>\n",
       "      <th>시력</th>\n",
       "      <th>충치</th>\n",
       "      <th>공복 혈당</th>\n",
       "      <th>혈압</th>\n",
       "      <th>중성 지방</th>\n",
       "      <th>혈청 크레아티닌</th>\n",
       "      <th>콜레스테롤</th>\n",
       "      <th>고밀도지단백</th>\n",
       "      <th>저밀도지단백</th>\n",
       "      <th>헤모글로빈</th>\n",
       "      <th>요 단백</th>\n",
       "      <th>간 효소율</th>\n",
       "      <th>label</th>\n",
       "    </tr>\n",
       "  </thead>\n",
       "  <tbody>\n",
       "    <tr>\n",
       "      <th>0</th>\n",
       "      <td>TRAIN_0000</td>\n",
       "      <td>35</td>\n",
       "      <td>170</td>\n",
       "      <td>70</td>\n",
       "      <td>24.22</td>\n",
       "      <td>1.10</td>\n",
       "      <td>1</td>\n",
       "      <td>98</td>\n",
       "      <td>40</td>\n",
       "      <td>80</td>\n",
       "      <td>1.3</td>\n",
       "      <td>211</td>\n",
       "      <td>75</td>\n",
       "      <td>120</td>\n",
       "      <td>15.9</td>\n",
       "      <td>1</td>\n",
       "      <td>1.53</td>\n",
       "      <td>1</td>\n",
       "    </tr>\n",
       "    <tr>\n",
       "      <th>1</th>\n",
       "      <td>TRAIN_0001</td>\n",
       "      <td>40</td>\n",
       "      <td>150</td>\n",
       "      <td>55</td>\n",
       "      <td>24.44</td>\n",
       "      <td>1.00</td>\n",
       "      <td>0</td>\n",
       "      <td>173</td>\n",
       "      <td>39</td>\n",
       "      <td>104</td>\n",
       "      <td>0.6</td>\n",
       "      <td>251</td>\n",
       "      <td>46</td>\n",
       "      <td>184</td>\n",
       "      <td>11.8</td>\n",
       "      <td>1</td>\n",
       "      <td>1.45</td>\n",
       "      <td>0</td>\n",
       "    </tr>\n",
       "    <tr>\n",
       "      <th>2</th>\n",
       "      <td>TRAIN_0002</td>\n",
       "      <td>60</td>\n",
       "      <td>170</td>\n",
       "      <td>50</td>\n",
       "      <td>17.30</td>\n",
       "      <td>0.75</td>\n",
       "      <td>0</td>\n",
       "      <td>96</td>\n",
       "      <td>40</td>\n",
       "      <td>61</td>\n",
       "      <td>0.8</td>\n",
       "      <td>144</td>\n",
       "      <td>43</td>\n",
       "      <td>89</td>\n",
       "      <td>15.3</td>\n",
       "      <td>1</td>\n",
       "      <td>1.04</td>\n",
       "      <td>0</td>\n",
       "    </tr>\n",
       "    <tr>\n",
       "      <th>3</th>\n",
       "      <td>TRAIN_0003</td>\n",
       "      <td>40</td>\n",
       "      <td>150</td>\n",
       "      <td>45</td>\n",
       "      <td>20.00</td>\n",
       "      <td>0.50</td>\n",
       "      <td>0</td>\n",
       "      <td>92</td>\n",
       "      <td>40</td>\n",
       "      <td>46</td>\n",
       "      <td>0.7</td>\n",
       "      <td>178</td>\n",
       "      <td>66</td>\n",
       "      <td>110</td>\n",
       "      <td>13.4</td>\n",
       "      <td>1</td>\n",
       "      <td>1.18</td>\n",
       "      <td>0</td>\n",
       "    </tr>\n",
       "    <tr>\n",
       "      <th>4</th>\n",
       "      <td>TRAIN_0004</td>\n",
       "      <td>55</td>\n",
       "      <td>155</td>\n",
       "      <td>65</td>\n",
       "      <td>27.06</td>\n",
       "      <td>1.00</td>\n",
       "      <td>0</td>\n",
       "      <td>87</td>\n",
       "      <td>42</td>\n",
       "      <td>95</td>\n",
       "      <td>0.9</td>\n",
       "      <td>232</td>\n",
       "      <td>62</td>\n",
       "      <td>151</td>\n",
       "      <td>13.8</td>\n",
       "      <td>1</td>\n",
       "      <td>1.32</td>\n",
       "      <td>0</td>\n",
       "    </tr>\n",
       "  </tbody>\n",
       "</table>\n",
       "</div>"
      ],
      "text/plain": [
       "           ID  나이  키(cm)  몸무게(kg)    BMI    시력  충치  공복 혈당  혈압  중성 지방  \\\n",
       "0  TRAIN_0000  35    170       70  24.22  1.10   1     98  40     80   \n",
       "1  TRAIN_0001  40    150       55  24.44  1.00   0    173  39    104   \n",
       "2  TRAIN_0002  60    170       50  17.30  0.75   0     96  40     61   \n",
       "3  TRAIN_0003  40    150       45  20.00  0.50   0     92  40     46   \n",
       "4  TRAIN_0004  55    155       65  27.06  1.00   0     87  42     95   \n",
       "\n",
       "   혈청 크레아티닌  콜레스테롤  고밀도지단백  저밀도지단백  헤모글로빈  요 단백  간 효소율  label  \n",
       "0       1.3    211      75     120   15.9     1   1.53      1  \n",
       "1       0.6    251      46     184   11.8     1   1.45      0  \n",
       "2       0.8    144      43      89   15.3     1   1.04      0  \n",
       "3       0.7    178      66     110   13.4     1   1.18      0  \n",
       "4       0.9    232      62     151   13.8     1   1.32      0  "
      ]
     },
     "execution_count": 4,
     "metadata": {},
     "output_type": "execute_result"
    }
   ],
   "source": [
    "df.head()"
   ]
  },
  {
   "cell_type": "code",
   "execution_count": 5,
   "id": "8d01a577",
   "metadata": {},
   "outputs": [
    {
     "data": {
      "text/html": [
       "<div>\n",
       "<style scoped>\n",
       "    .dataframe tbody tr th:only-of-type {\n",
       "        vertical-align: middle;\n",
       "    }\n",
       "\n",
       "    .dataframe tbody tr th {\n",
       "        vertical-align: top;\n",
       "    }\n",
       "\n",
       "    .dataframe thead th {\n",
       "        text-align: right;\n",
       "    }\n",
       "</style>\n",
       "<table border=\"1\" class=\"dataframe\">\n",
       "  <thead>\n",
       "    <tr style=\"text-align: right;\">\n",
       "      <th></th>\n",
       "      <th>ID</th>\n",
       "      <th>나이</th>\n",
       "      <th>키(cm)</th>\n",
       "      <th>몸무게(kg)</th>\n",
       "      <th>BMI</th>\n",
       "      <th>시력</th>\n",
       "      <th>충치</th>\n",
       "      <th>공복 혈당</th>\n",
       "      <th>혈압</th>\n",
       "      <th>중성 지방</th>\n",
       "      <th>혈청 크레아티닌</th>\n",
       "      <th>콜레스테롤</th>\n",
       "      <th>고밀도지단백</th>\n",
       "      <th>저밀도지단백</th>\n",
       "      <th>헤모글로빈</th>\n",
       "      <th>요 단백</th>\n",
       "      <th>간 효소율</th>\n",
       "    </tr>\n",
       "  </thead>\n",
       "  <tbody>\n",
       "    <tr>\n",
       "      <th>0</th>\n",
       "      <td>TEST_0000</td>\n",
       "      <td>40</td>\n",
       "      <td>165</td>\n",
       "      <td>55</td>\n",
       "      <td>20.20</td>\n",
       "      <td>0.90</td>\n",
       "      <td>1</td>\n",
       "      <td>98</td>\n",
       "      <td>47</td>\n",
       "      <td>75</td>\n",
       "      <td>0.5</td>\n",
       "      <td>229</td>\n",
       "      <td>59</td>\n",
       "      <td>155</td>\n",
       "      <td>13.7</td>\n",
       "      <td>1</td>\n",
       "      <td>1.73</td>\n",
       "    </tr>\n",
       "    <tr>\n",
       "      <th>1</th>\n",
       "      <td>TEST_0001</td>\n",
       "      <td>65</td>\n",
       "      <td>145</td>\n",
       "      <td>50</td>\n",
       "      <td>23.78</td>\n",
       "      <td>0.50</td>\n",
       "      <td>0</td>\n",
       "      <td>99</td>\n",
       "      <td>59</td>\n",
       "      <td>98</td>\n",
       "      <td>0.6</td>\n",
       "      <td>200</td>\n",
       "      <td>65</td>\n",
       "      <td>115</td>\n",
       "      <td>12.2</td>\n",
       "      <td>1</td>\n",
       "      <td>1.00</td>\n",
       "    </tr>\n",
       "    <tr>\n",
       "      <th>2</th>\n",
       "      <td>TEST_0002</td>\n",
       "      <td>40</td>\n",
       "      <td>160</td>\n",
       "      <td>75</td>\n",
       "      <td>29.30</td>\n",
       "      <td>1.00</td>\n",
       "      <td>0</td>\n",
       "      <td>105</td>\n",
       "      <td>34</td>\n",
       "      <td>232</td>\n",
       "      <td>0.6</td>\n",
       "      <td>170</td>\n",
       "      <td>50</td>\n",
       "      <td>73</td>\n",
       "      <td>15.1</td>\n",
       "      <td>1</td>\n",
       "      <td>1.33</td>\n",
       "    </tr>\n",
       "    <tr>\n",
       "      <th>3</th>\n",
       "      <td>TEST_0003</td>\n",
       "      <td>30</td>\n",
       "      <td>180</td>\n",
       "      <td>90</td>\n",
       "      <td>27.78</td>\n",
       "      <td>1.35</td>\n",
       "      <td>0</td>\n",
       "      <td>78</td>\n",
       "      <td>45</td>\n",
       "      <td>218</td>\n",
       "      <td>0.9</td>\n",
       "      <td>197</td>\n",
       "      <td>55</td>\n",
       "      <td>98</td>\n",
       "      <td>15.2</td>\n",
       "      <td>1</td>\n",
       "      <td>0.89</td>\n",
       "    </tr>\n",
       "    <tr>\n",
       "      <th>4</th>\n",
       "      <td>TEST_0004</td>\n",
       "      <td>50</td>\n",
       "      <td>155</td>\n",
       "      <td>55</td>\n",
       "      <td>22.89</td>\n",
       "      <td>0.75</td>\n",
       "      <td>0</td>\n",
       "      <td>116</td>\n",
       "      <td>67</td>\n",
       "      <td>139</td>\n",
       "      <td>1.0</td>\n",
       "      <td>230</td>\n",
       "      <td>66</td>\n",
       "      <td>136</td>\n",
       "      <td>15.0</td>\n",
       "      <td>1</td>\n",
       "      <td>0.85</td>\n",
       "    </tr>\n",
       "  </tbody>\n",
       "</table>\n",
       "</div>"
      ],
      "text/plain": [
       "          ID  나이  키(cm)  몸무게(kg)    BMI    시력  충치  공복 혈당  혈압  중성 지방  혈청 크레아티닌  \\\n",
       "0  TEST_0000  40    165       55  20.20  0.90   1     98  47     75       0.5   \n",
       "1  TEST_0001  65    145       50  23.78  0.50   0     99  59     98       0.6   \n",
       "2  TEST_0002  40    160       75  29.30  1.00   0    105  34    232       0.6   \n",
       "3  TEST_0003  30    180       90  27.78  1.35   0     78  45    218       0.9   \n",
       "4  TEST_0004  50    155       55  22.89  0.75   0    116  67    139       1.0   \n",
       "\n",
       "   콜레스테롤  고밀도지단백  저밀도지단백  헤모글로빈  요 단백  간 효소율  \n",
       "0    229      59     155   13.7     1   1.73  \n",
       "1    200      65     115   12.2     1   1.00  \n",
       "2    170      50      73   15.1     1   1.33  \n",
       "3    197      55      98   15.2     1   0.89  \n",
       "4    230      66     136   15.0     1   0.85  "
      ]
     },
     "execution_count": 5,
     "metadata": {},
     "output_type": "execute_result"
    }
   ],
   "source": [
    "test.head()"
   ]
  },
  {
   "cell_type": "code",
   "execution_count": 6,
   "id": "949d2528",
   "metadata": {},
   "outputs": [],
   "source": [
    "# BMI 에 키, 몸무게 들어감. \n",
    "# 시력은 크게 의미 없음\n",
    "# 크레아티닌은 신장 관련 가장 유심히 보는 수치\n",
    "#저밀도 지단백과 고밀도 지단백은 콜레스테롤 수치\n",
    "# 신장여과로 요단백이 나옴\n",
    "# 간효소율은 신장과 함께 봄"
   ]
  },
  {
   "cell_type": "code",
   "execution_count": 7,
   "id": "85c92c3b",
   "metadata": {},
   "outputs": [],
   "source": [
    "# 우선 적게나마 함께 보는 수치이기 때문에 키와 몸무게만 삭제하고 진행"
   ]
  },
  {
   "cell_type": "code",
   "execution_count": 8,
   "id": "292b605c",
   "metadata": {},
   "outputs": [],
   "source": [
    "df = df.drop(['ID'], axis = 1)"
   ]
  },
  {
   "cell_type": "code",
   "execution_count": 9,
   "id": "7194b6a0",
   "metadata": {},
   "outputs": [],
   "source": [
    "test = test.drop(['ID'], axis = 1)"
   ]
  },
  {
   "cell_type": "code",
   "execution_count": 10,
   "id": "ebceba29",
   "metadata": {},
   "outputs": [
    {
     "data": {
      "text/plain": [
       "'# 정규화하기\\n# MinMaxScaler 클래스 생성\\nscaler = MinMaxScaler()\\n\\n# MinMaxScaler 클래스의 fit_transform() 메서드 사용 데이터 정규화\\nnormalized_data = scaler.fit_transform(df)\\n\\n# 정규화된 데이터, 데이터 프레임으로 다시 변환\\nndf = pd.DataFrame(normalized_data, columns=df.columns)'"
      ]
     },
     "execution_count": 10,
     "metadata": {},
     "output_type": "execute_result"
    }
   ],
   "source": [
    "'''# 정규화하기\n",
    "# MinMaxScaler 클래스 생성\n",
    "scaler = MinMaxScaler()\n",
    "\n",
    "# MinMaxScaler 클래스의 fit_transform() 메서드 사용 데이터 정규화\n",
    "normalized_data = scaler.fit_transform(df)\n",
    "\n",
    "# 정규화된 데이터, 데이터 프레임으로 다시 변환\n",
    "ndf = pd.DataFrame(normalized_data, columns=df.columns)'''"
   ]
  },
  {
   "cell_type": "code",
   "execution_count": 11,
   "id": "edf47963",
   "metadata": {},
   "outputs": [
    {
     "data": {
      "text/plain": [
       "'ndf.head()'"
      ]
     },
     "execution_count": 11,
     "metadata": {},
     "output_type": "execute_result"
    }
   ],
   "source": [
    "'''ndf.head()'''"
   ]
  },
  {
   "cell_type": "code",
   "execution_count": 12,
   "id": "589dc94d",
   "metadata": {},
   "outputs": [],
   "source": [
    "# 데이터 나누기\n",
    "X = df.iloc[:, :-1]\n",
    "y = df.iloc[:,[-1]]"
   ]
  },
  {
   "cell_type": "code",
   "execution_count": 13,
   "id": "3fc01f5e",
   "metadata": {},
   "outputs": [],
   "source": [
    "model = RandomForestRegressor()"
   ]
  },
  {
   "cell_type": "code",
   "execution_count": 14,
   "id": "57c0ed13",
   "metadata": {},
   "outputs": [
    {
     "name": "stderr",
     "output_type": "stream",
     "text": [
      "C:\\Users\\tjoeun\\AppData\\Local\\Temp\\ipykernel_3020\\2489992722.py:1: DataConversionWarning: A column-vector y was passed when a 1d array was expected. Please change the shape of y to (n_samples,), for example using ravel().\n",
      "  model.fit(X, y)\n"
     ]
    },
    {
     "data": {
      "text/html": [
       "<style>#sk-container-id-1 {color: black;background-color: white;}#sk-container-id-1 pre{padding: 0;}#sk-container-id-1 div.sk-toggleable {background-color: white;}#sk-container-id-1 label.sk-toggleable__label {cursor: pointer;display: block;width: 100%;margin-bottom: 0;padding: 0.3em;box-sizing: border-box;text-align: center;}#sk-container-id-1 label.sk-toggleable__label-arrow:before {content: \"▸\";float: left;margin-right: 0.25em;color: #696969;}#sk-container-id-1 label.sk-toggleable__label-arrow:hover:before {color: black;}#sk-container-id-1 div.sk-estimator:hover label.sk-toggleable__label-arrow:before {color: black;}#sk-container-id-1 div.sk-toggleable__content {max-height: 0;max-width: 0;overflow: hidden;text-align: left;background-color: #f0f8ff;}#sk-container-id-1 div.sk-toggleable__content pre {margin: 0.2em;color: black;border-radius: 0.25em;background-color: #f0f8ff;}#sk-container-id-1 input.sk-toggleable__control:checked~div.sk-toggleable__content {max-height: 200px;max-width: 100%;overflow: auto;}#sk-container-id-1 input.sk-toggleable__control:checked~label.sk-toggleable__label-arrow:before {content: \"▾\";}#sk-container-id-1 div.sk-estimator input.sk-toggleable__control:checked~label.sk-toggleable__label {background-color: #d4ebff;}#sk-container-id-1 div.sk-label input.sk-toggleable__control:checked~label.sk-toggleable__label {background-color: #d4ebff;}#sk-container-id-1 input.sk-hidden--visually {border: 0;clip: rect(1px 1px 1px 1px);clip: rect(1px, 1px, 1px, 1px);height: 1px;margin: -1px;overflow: hidden;padding: 0;position: absolute;width: 1px;}#sk-container-id-1 div.sk-estimator {font-family: monospace;background-color: #f0f8ff;border: 1px dotted black;border-radius: 0.25em;box-sizing: border-box;margin-bottom: 0.5em;}#sk-container-id-1 div.sk-estimator:hover {background-color: #d4ebff;}#sk-container-id-1 div.sk-parallel-item::after {content: \"\";width: 100%;border-bottom: 1px solid gray;flex-grow: 1;}#sk-container-id-1 div.sk-label:hover label.sk-toggleable__label {background-color: #d4ebff;}#sk-container-id-1 div.sk-serial::before {content: \"\";position: absolute;border-left: 1px solid gray;box-sizing: border-box;top: 0;bottom: 0;left: 50%;z-index: 0;}#sk-container-id-1 div.sk-serial {display: flex;flex-direction: column;align-items: center;background-color: white;padding-right: 0.2em;padding-left: 0.2em;position: relative;}#sk-container-id-1 div.sk-item {position: relative;z-index: 1;}#sk-container-id-1 div.sk-parallel {display: flex;align-items: stretch;justify-content: center;background-color: white;position: relative;}#sk-container-id-1 div.sk-item::before, #sk-container-id-1 div.sk-parallel-item::before {content: \"\";position: absolute;border-left: 1px solid gray;box-sizing: border-box;top: 0;bottom: 0;left: 50%;z-index: -1;}#sk-container-id-1 div.sk-parallel-item {display: flex;flex-direction: column;z-index: 1;position: relative;background-color: white;}#sk-container-id-1 div.sk-parallel-item:first-child::after {align-self: flex-end;width: 50%;}#sk-container-id-1 div.sk-parallel-item:last-child::after {align-self: flex-start;width: 50%;}#sk-container-id-1 div.sk-parallel-item:only-child::after {width: 0;}#sk-container-id-1 div.sk-dashed-wrapped {border: 1px dashed gray;margin: 0 0.4em 0.5em 0.4em;box-sizing: border-box;padding-bottom: 0.4em;background-color: white;}#sk-container-id-1 div.sk-label label {font-family: monospace;font-weight: bold;display: inline-block;line-height: 1.2em;}#sk-container-id-1 div.sk-label-container {text-align: center;}#sk-container-id-1 div.sk-container {/* jupyter's `normalize.less` sets `[hidden] { display: none; }` but bootstrap.min.css set `[hidden] { display: none !important; }` so we also need the `!important` here to be able to override the default hidden behavior on the sphinx rendered scikit-learn.org. See: https://github.com/scikit-learn/scikit-learn/issues/21755 */display: inline-block !important;position: relative;}#sk-container-id-1 div.sk-text-repr-fallback {display: none;}</style><div id=\"sk-container-id-1\" class=\"sk-top-container\"><div class=\"sk-text-repr-fallback\"><pre>RandomForestRegressor()</pre><b>In a Jupyter environment, please rerun this cell to show the HTML representation or trust the notebook. <br />On GitHub, the HTML representation is unable to render, please try loading this page with nbviewer.org.</b></div><div class=\"sk-container\" hidden><div class=\"sk-item\"><div class=\"sk-estimator sk-toggleable\"><input class=\"sk-toggleable__control sk-hidden--visually\" id=\"sk-estimator-id-1\" type=\"checkbox\" checked><label for=\"sk-estimator-id-1\" class=\"sk-toggleable__label sk-toggleable__label-arrow\">RandomForestRegressor</label><div class=\"sk-toggleable__content\"><pre>RandomForestRegressor()</pre></div></div></div></div></div>"
      ],
      "text/plain": [
       "RandomForestRegressor()"
      ]
     },
     "execution_count": 14,
     "metadata": {},
     "output_type": "execute_result"
    }
   ],
   "source": [
    "model.fit(X, y)"
   ]
  },
  {
   "cell_type": "code",
   "execution_count": 15,
   "id": "dc6b8a8d",
   "metadata": {},
   "outputs": [
    {
     "data": {
      "text/plain": [
       "'# 정규화하기\\n# MinMaxScaler 클래스 생성\\nscaler = MinMaxScaler()\\n\\n# MinMaxScaler 클래스의 fit_transform() 메서드 사용 데이터 정규화\\nnormalized_data = scaler.fit_transform(test)\\n\\n# 정규화된 데이터, 데이터 프레임으로 다시 변환\\ntndf = pd.DataFrame(normalized_data, columns=test.columns)'"
      ]
     },
     "execution_count": 15,
     "metadata": {},
     "output_type": "execute_result"
    }
   ],
   "source": [
    "'''# 정규화하기\n",
    "# MinMaxScaler 클래스 생성\n",
    "scaler = MinMaxScaler()\n",
    "\n",
    "# MinMaxScaler 클래스의 fit_transform() 메서드 사용 데이터 정규화\n",
    "normalized_data = scaler.fit_transform(test)\n",
    "\n",
    "# 정규화된 데이터, 데이터 프레임으로 다시 변환\n",
    "tndf = pd.DataFrame(normalized_data, columns=test.columns)'''"
   ]
  },
  {
   "cell_type": "code",
   "execution_count": 16,
   "id": "fad40ec2",
   "metadata": {},
   "outputs": [],
   "source": [
    "test_pred = model.predict(test)"
   ]
  },
  {
   "cell_type": "code",
   "execution_count": 18,
   "id": "59e25373",
   "metadata": {},
   "outputs": [],
   "source": [
    "test['pred']=test_pred"
   ]
  },
  {
   "cell_type": "code",
   "execution_count": null,
   "id": "dd13c261",
   "metadata": {},
   "outputs": [],
   "source": [
    "#제출\n",
    "submission = pd.read_csv('../smoke/sample_submission.csv')\n",
    "submission['label'] = test['pred']\n",
    "submission.head()"
   ]
  },
  {
   "cell_type": "code",
   "execution_count": null,
   "id": "a8c03fae",
   "metadata": {},
   "outputs": [],
   "source": [
    "submission.to_csv('../smoke/smoke1.csv', index=  False)"
   ]
  },
  {
   "cell_type": "code",
   "execution_count": null,
   "id": "8646be18",
   "metadata": {},
   "outputs": [],
   "source": []
  }
 ],
 "metadata": {
  "kernelspec": {
   "display_name": "Python [conda env:tf_cpu] *",
   "language": "python",
   "name": "conda-env-tf_cpu-py"
  },
  "language_info": {
   "codemirror_mode": {
    "name": "ipython",
    "version": 3
   },
   "file_extension": ".py",
   "mimetype": "text/x-python",
   "name": "python",
   "nbconvert_exporter": "python",
   "pygments_lexer": "ipython3",
   "version": "3.8.16"
  }
 },
 "nbformat": 4,
 "nbformat_minor": 5
}
